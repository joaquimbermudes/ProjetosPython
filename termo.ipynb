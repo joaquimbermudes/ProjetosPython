{
 "cells": [
  {
   "cell_type": "code",
   "execution_count": 1,
   "metadata": {},
   "outputs": [],
   "source": [
    "import pandas as pd\n",
    "import numpy as np\n",
    "import unidecode"
   ]
  },
  {
   "cell_type": "code",
   "execution_count": 2,
   "metadata": {},
   "outputs": [],
   "source": [
    "#https://www.ime.usp.br/~pf/dicios/br-utf8.txt\n",
    "palavras = pd.read_csv(\"pala.txt\")\n",
    "palavras.columns = [\"a\"]"
   ]
  },
  {
   "cell_type": "code",
   "execution_count": 3,
   "metadata": {},
   "outputs": [],
   "source": [
    "continuar = [False]*len(palavras)\n",
    "\n",
    "for i in range(len(palavras[\"a\"])):\n",
    "    if (len(palavras[\"a\"][i]) == 5) & (\"-\" not in palavras[\"a\"][i]) & (\".\" not in palavras[\"a\"][i]):\n",
    "        continuar[i] = True\n",
    "\n",
    "palavras = palavras[continuar]\n",
    "palavras.reset_index(inplace=True, drop = True)"
   ]
  },
  {
   "cell_type": "code",
   "execution_count": 4,
   "metadata": {},
   "outputs": [],
   "source": [
    "for i in range(len(palavras)):\n",
    "    palavras[\"a\"][i] = unidecode.unidecode(palavras[\"a\"][i]).upper()"
   ]
  },
  {
   "cell_type": "code",
   "execution_count": 5,
   "metadata": {},
   "outputs": [],
   "source": [
    "letras = [\"A\",\"B\", \"C\", \"D\", \"E\", \"F\", \"G\", \"H\", \"I\", \"J\", \"K\", \"L\", \"M\", \"N\", \"O\", \"P\",\n",
    "\"Q\", \"R\", \"S\", \"T\", \"U\", \"V\", \"W\", \"X\", \"Y\", \"Z\"]\n",
    "letrasCont = pd.DataFrame(np.zeros((len(palavras), 26)), columns= letras)"
   ]
  },
  {
   "cell_type": "code",
   "execution_count": 6,
   "metadata": {},
   "outputs": [],
   "source": [
    "for i in range(len(palavras)):\n",
    "    for j in letras:\n",
    "        letrasCont[j][i] = palavras[\"a\"][i].count(j)"
   ]
  },
  {
   "cell_type": "code",
   "execution_count": 7,
   "metadata": {},
   "outputs": [],
   "source": [
    "prob = pd.DataFrame(np.zeros((26, 1)), index= letras)\n",
    "prob.columns = [\"prob\"]\n",
    "for i in letrasCont.columns:\n",
    "    prob[\"prob\"][i] = sum(letrasCont[i])/(len(palavras)*5)"
   ]
  },
  {
   "cell_type": "code",
   "execution_count": 8,
   "metadata": {},
   "outputs": [],
   "source": [
    "probPalavra = np.ones((len(letrasCont[\"A\"]), 26))\n",
    "for i in range(26):\n",
    "    for j in range(len(letrasCont[\"A\"])):\n",
    "        probPalavra[j, i] = prob[\"prob\"][i]**letrasCont.iloc[j, i]\n",
    "    "
   ]
  },
  {
   "cell_type": "code",
   "execution_count": 9,
   "metadata": {},
   "outputs": [],
   "source": [
    "df = pd.DataFrame(np.prod(probPalavra, 1), index= palavras[\"a\"])"
   ]
  },
  {
   "cell_type": "code",
   "execution_count": 10,
   "metadata": {},
   "outputs": [
    {
     "data": {
      "text/html": [
       "<div>\n",
       "<style scoped>\n",
       "    .dataframe tbody tr th:only-of-type {\n",
       "        vertical-align: middle;\n",
       "    }\n",
       "\n",
       "    .dataframe tbody tr th {\n",
       "        vertical-align: top;\n",
       "    }\n",
       "\n",
       "    .dataframe thead th {\n",
       "        text-align: right;\n",
       "    }\n",
       "</style>\n",
       "<table border=\"1\" class=\"dataframe\">\n",
       "  <thead>\n",
       "    <tr style=\"text-align: right;\">\n",
       "      <th></th>\n",
       "      <th>0</th>\n",
       "    </tr>\n",
       "    <tr>\n",
       "      <th>a</th>\n",
       "      <th></th>\n",
       "    </tr>\n",
       "  </thead>\n",
       "  <tbody>\n",
       "    <tr>\n",
       "      <th>AARAO</th>\n",
       "      <td>0.000035</td>\n",
       "    </tr>\n",
       "    <tr>\n",
       "      <th>ARARA</th>\n",
       "      <td>0.000028</td>\n",
       "    </tr>\n",
       "    <tr>\n",
       "      <th>ARARA</th>\n",
       "      <td>0.000028</td>\n",
       "    </tr>\n",
       "    <tr>\n",
       "      <th>SAARA</th>\n",
       "      <td>0.000025</td>\n",
       "    </tr>\n",
       "    <tr>\n",
       "      <th>SAARA</th>\n",
       "      <td>0.000025</td>\n",
       "    </tr>\n",
       "    <tr>\n",
       "      <th>AEREA</th>\n",
       "      <td>0.000021</td>\n",
       "    </tr>\n",
       "    <tr>\n",
       "      <th>AREIA</th>\n",
       "      <td>0.000017</td>\n",
       "    </tr>\n",
       "    <tr>\n",
       "      <th>ORARA</th>\n",
       "      <td>0.000017</td>\n",
       "    </tr>\n",
       "    <tr>\n",
       "      <th>ORARA</th>\n",
       "      <td>0.000017</td>\n",
       "    </tr>\n",
       "    <tr>\n",
       "      <th>RAREA</th>\n",
       "      <td>0.000016</td>\n",
       "    </tr>\n",
       "    <tr>\n",
       "      <th>ARREA</th>\n",
       "      <td>0.000016</td>\n",
       "    </tr>\n",
       "    <tr>\n",
       "      <th>AMARA</th>\n",
       "      <td>0.000016</td>\n",
       "    </tr>\n",
       "    <tr>\n",
       "      <th>AMARA</th>\n",
       "      <td>0.000016</td>\n",
       "    </tr>\n",
       "    <tr>\n",
       "      <th>ACAIA</th>\n",
       "      <td>0.000015</td>\n",
       "    </tr>\n",
       "    <tr>\n",
       "      <th>SOARA</th>\n",
       "      <td>0.000015</td>\n",
       "    </tr>\n",
       "    <tr>\n",
       "      <th>SOARA</th>\n",
       "      <td>0.000015</td>\n",
       "    </tr>\n",
       "    <tr>\n",
       "      <th>SEARA</th>\n",
       "      <td>0.000015</td>\n",
       "    </tr>\n",
       "    <tr>\n",
       "      <th>AREAS</th>\n",
       "      <td>0.000015</td>\n",
       "    </tr>\n",
       "    <tr>\n",
       "      <th>ARACA</th>\n",
       "      <td>0.000015</td>\n",
       "    </tr>\n",
       "    <tr>\n",
       "      <th>ATARA</th>\n",
       "      <td>0.000015</td>\n",
       "    </tr>\n",
       "  </tbody>\n",
       "</table>\n",
       "</div>"
      ],
      "text/plain": [
       "              0\n",
       "a              \n",
       "AARAO  0.000035\n",
       "ARARA  0.000028\n",
       "ARARA  0.000028\n",
       "SAARA  0.000025\n",
       "SAARA  0.000025\n",
       "AEREA  0.000021\n",
       "AREIA  0.000017\n",
       "ORARA  0.000017\n",
       "ORARA  0.000017\n",
       "RAREA  0.000016\n",
       "ARREA  0.000016\n",
       "AMARA  0.000016\n",
       "AMARA  0.000016\n",
       "ACAIA  0.000015\n",
       "SOARA  0.000015\n",
       "SOARA  0.000015\n",
       "SEARA  0.000015\n",
       "AREAS  0.000015\n",
       "ARACA  0.000015\n",
       "ATARA  0.000015"
      ]
     },
     "execution_count": 10,
     "metadata": {},
     "output_type": "execute_result"
    }
   ],
   "source": [
    "df.sort_values(0, ascending= False)[0:20]"
   ]
  }
 ],
 "metadata": {
  "interpreter": {
   "hash": "6868c2c58928b2df756f83b0ee3c61f987925f733633c14067b8c2ee5ae10991"
  },
  "kernelspec": {
   "display_name": "Python 3.7.6 64-bit ('myvenv': venv)",
   "language": "python",
   "name": "python3"
  },
  "language_info": {
   "codemirror_mode": {
    "name": "ipython",
    "version": 3
   },
   "file_extension": ".py",
   "mimetype": "text/x-python",
   "name": "python",
   "nbconvert_exporter": "python",
   "pygments_lexer": "ipython3",
   "version": "3.7.6"
  },
  "orig_nbformat": 4
 },
 "nbformat": 4,
 "nbformat_minor": 2
}
