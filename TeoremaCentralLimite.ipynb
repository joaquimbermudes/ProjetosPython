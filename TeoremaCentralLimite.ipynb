{
 "cells": [
  {
   "cell_type": "code",
   "execution_count": 7,
   "id": "6727b3c6-92bf-4262-a549-e6e8882f68e4",
   "metadata": {},
   "outputs": [],
   "source": [
    "import numpy as np\n",
    "import seaborn as sns"
   ]
  },
  {
   "cell_type": "markdown",
   "id": "9dbffebd-5bb3-4ef1-9939-4e05f6ee3479",
   "metadata": {},
   "source": [
    "***TEOREMA CENTRAL DO LIMITE:*** Sejam $X_{1} ... X_{n}$ uma amostra IID com média $\\mu$ e variância $\\sigma^{2} < \\infty$. Definimos $\\bar{X}_{n} = n^{-1} \\sum_{i=1}^{n}X_{i}$, então:\n",
    "\n",
    "$$\n",
    "Z_{n} \\equiv \\frac{\\sqrt{n}(\\bar{X}_{n} - \\mu)}{\\sigma} \\rightarrow Z\n",
    "$$\n",
    "\n",
    "$Z_n$ converge em distribuição para $Z \\sim N(0,1)$."
   ]
  },
  {
   "cell_type": "code",
   "execution_count": 72,
   "id": "9156deb1-d4ae-4139-8149-0acf1e4ef2e0",
   "metadata": {},
   "outputs": [],
   "source": [
    "def TCL(VariavelAleatoria, media_teorica, dp_teorico):\n",
    "    n = np.shape(VariavelAleatoria) # n = (tamanho das amostras, repetições das amostras)\n",
    "    media = np.mean(VariavelAleatoria, 0) # media de cada amostra\n",
    "    n_2 = n[0]**0.5 # comprimento das amostras\n",
    "    \n",
    "    return n_2 *(media - media_teorica)/dp_teorico # aplicação do TCL"
   ]
  },
  {
   "cell_type": "code",
   "execution_count": 73,
   "id": "b8df31e4-9490-4b57-b15c-9cb9ab5a3901",
   "metadata": {},
   "outputs": [],
   "source": [
    "bernoulli = np.random.binomial(1, 0.7, (100,5000)) # bernoulli com p = 0.7\n",
    "exponencial = np.random.exponential(20, (100, 5000)) # exponencial com lambda = 20\n",
    "binomial = np.random.binomial(50, 0.35, (100, 5000)) # binomial com n = 50 e p = 0.35\n",
    "qui2 = np.random.chisquare(4 ,(100, 5000)) # qui^2 com k = 4"
   ]
  },
  {
   "cell_type": "code",
   "execution_count": 93,
   "id": "9c7eb25a-adcf-4e24-b8f9-040db5ed05ea",
   "metadata": {},
   "outputs": [
    {
     "data": {
      "text/plain": [
       "<AxesSubplot:ylabel='Count'>"
      ]
     },
     "execution_count": 93,
     "metadata": {},
     "output_type": "execute_result"
    },
    {
     "data": {
      "image/png": "[encoded data removed]",
      "text/plain": [
       "<Figure size 432x288 with 1 Axes>"
      ]
     },
     "metadata": {
      "needs_background": "light"
     },
     "output_type": "display_data"
    }
   ],
   "source": [
    "sns.histplot(TCL(bernoulli, 0.7, (0.7*0.3)**0.5), color = \"red\", alpha = 0.3)\n",
    "sns.histplot(TCL(exponencial, 20, 20), color = \"blue\", alpha = 0.3)\n",
    "sns.histplot(TCL(binomial, 50*0.35, (50*0.35*0.65)**0.5), color = \"green\", alpha = 0.3)\n",
    "sns.histplot(TCL(qui2, 4, 8**0.5), color = \"yellow\", alpha = 0.3)"
   ]
  }
 ],
 "metadata": {
  "kernelspec": {
   "display_name": "Python 3 (ipykernel)",
   "language": "python",
   "name": "python3"
  },
  "language_info": {
   "codemirror_mode": {
    "name": "ipython",
    "version": 3
   },
   "file_extension": ".py",
   "mimetype": "text/x-python",
   "name": "python",
   "nbconvert_exporter": "python",
   "pygments_lexer": "ipython3",
   "version": "3.10.4"
  }
 },
 "nbformat": 4,
 "nbformat_minor": 5
}
