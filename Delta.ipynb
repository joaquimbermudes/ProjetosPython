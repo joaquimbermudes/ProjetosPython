{
 "cells": [
  {
   "cell_type": "code",
   "execution_count": 3,
   "id": "b3ad07a2-0dec-449b-b269-c1d3a4015a6c",
   "metadata": {},
   "outputs": [],
   "source": [
    "import numpy as np\n",
    "import seaborn as sns"
   ]
  },
  {
   "cell_type": "markdown",
   "id": "cfe1a6f6-9169-4929-90c5-af6fb7521bb1",
   "metadata": {},
   "source": [
    "***Método Delta:*** Sejam $X_{1} ... X_{n}$ uma amostra IID com média $\\mu$ e variância $\\sigma^{2} < \\infty$. Definimos $\\bar{X}_{n} = n^{-1} \\sum_{i=1}^{n}X_{i}$, e uma $g(X)$ diferencial com $g'(\\mu) \\not = 0$, então:\n",
    "\n",
    "$$\n",
    "\\sqrt{n}(\\bar{X}_{n} - \\mu) \\rightarrow N(0, \\sigma^2) \\Rightarrow \\sqrt{n}(\\bar{g(X)}_{n} - g( \\mu)) \\rightarrow N(0, g'( \\mu )^2 \\sigma^2 ).\n",
    "$$\n",
    "\n",
    "$\\rightarrow$ significa convergencia em probabilidade."
   ]
  },
  {
   "cell_type": "code",
   "execution_count": 8,
   "id": "83a1d8d2-6ee3-40ad-8023-955dabed7b3b",
   "metadata": {},
   "outputs": [],
   "source": [
    "def Delta(VariavelAleatoria, media_teorica, funcao):\n",
    "    n = np.shape(VariavelAleatoria) # n = (tamanho das amostras, repetições das amostras)\n",
    "    media = np.mean(VariavelAleatoria, 0) # media de cada amostra\n",
    "    n_2 = n[0]**0.5 # comprimento das amostras\n",
    "    \n",
    "    media_funcao = funcao(media) # aplicando a função na média observada\n",
    "    media_teorica_funcao = funcao(media_teorica) # aplicando a função na media teorica\n",
    "    \n",
    "    return n_2 *(media_funcao - media_teorica_funcao) # aplicação o método delta"
   ]
  },
  {
   "cell_type": "markdown",
   "id": "773afb30-233c-4f27-992e-6ed99ba632e6",
   "metadata": {},
   "source": [
    "Dois exemplos de aplicação do método delta. Um com $g(x) = x^2$ e com distribuição $\\chi^2(5)$ e outra com $g(x) = x^2 + 10x$ e distribuição $exp(2)$. "
   ]
  },
  {
   "cell_type": "code",
   "execution_count": 54,
   "id": "14852e5a-4fe5-4dac-b8a8-0e09783a8254",
   "metadata": {},
   "outputs": [
    {
     "name": "stdout",
     "output_type": "stream",
     "text": [
      "(g'(\\mu) * \\sigma)^2 = 100 * 10 = 1000 ~ 976.2554695998479\n"
     ]
    },
    {
     "data": {
      "image/png": "[encoded data removed]",
      "text/plain": [
       "<Figure size 432x288 with 1 Axes>"
      ]
     },
     "metadata": {
      "needs_background": "light"
     },
     "output_type": "display_data"
    }
   ],
   "source": [
    "g = lambda x: x**2\n",
    "X = np.random.chisquare(5, (100, 5000))\n",
    "XD = Delta(X, 5, g)\n",
    "sns.histplot(XD)\n",
    "print(\"(g'(\\mu) * \\sigma)^2 = 100 * 10 = 1000 ~ {}\".format(np.var(XD)))"
   ]
  },
  {
   "cell_type": "code",
   "execution_count": 61,
   "id": "1ae53032-4ddd-447a-9c61-10182ff9cacf",
   "metadata": {},
   "outputs": [
    {
     "name": "stdout",
     "output_type": "stream",
     "text": [
      "(g'(\\mu) * \\sigma)^2 = 196 * 4 = 784 ~ 782.0170058022046\n"
     ]
    },
    {
     "data": {
      "image/png": "[encoded data removed]",
      "text/plain": [
       "<Figure size 432x288 with 1 Axes>"
      ]
     },
     "metadata": {
      "needs_background": "light"
     },
     "output_type": "display_data"
    }
   ],
   "source": [
    "g = lambda x: x**2 + 10*x\n",
    "X = np.random.exponential(2, (100, 5000))\n",
    "XD = Delta(X, 2, g)\n",
    "sns.histplot(XD)\n",
    "print(\"(g'(\\mu) * \\sigma)^2 = 196 * 4 = 784 ~ {}\".format(np.var(XD)))"
   ]
  }
 ],
 "metadata": {
  "kernelspec": {
   "display_name": "Python 3 (ipykernel)",
   "language": "python",
   "name": "python3"
  },
  "language_info": {
   "codemirror_mode": {
    "name": "ipython",
    "version": 3
   },
   "file_extension": ".py",
   "mimetype": "text/x-python",
   "name": "python",
   "nbconvert_exporter": "python",
   "pygments_lexer": "ipython3",
   "version": "3.10.4"
  }
 },
 "nbformat": 4,
 "nbformat_minor": 5
}
